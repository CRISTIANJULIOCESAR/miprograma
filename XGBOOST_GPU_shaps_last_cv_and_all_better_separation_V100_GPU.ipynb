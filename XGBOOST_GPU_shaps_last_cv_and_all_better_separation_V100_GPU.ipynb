{
  "cells": [
    {
      "cell_type": "markdown",
      "metadata": {
        "id": "view-in-github",
        "colab_type": "text"
      },
      "source": [
        "<a href=\"https://colab.research.google.com/github/CRISTIANJULIOCESAR/miprograma/blob/main/XGBOOST_GPU_shaps_last_cv_and_all_better_separation_V100_GPU.ipynb\" target=\"_parent\"><img src=\"https://colab.research.google.com/assets/colab-badge.svg\" alt=\"Open In Colab\"/></a>"
      ]
    },
    {
      "cell_type": "code",
      "execution_count": 2,
      "metadata": {
        "colab": {
          "base_uri": "https://localhost:8080/"
        },
        "id": "VnT23n0MGgjW",
        "outputId": "b4abd7bb-7163-4aed-f618-e83c69f6dbdb"
      },
      "outputs": [
        {
          "output_type": "stream",
          "name": "stdout",
          "text": [
            "Mounted at /content/drive\n"
          ]
        }
      ],
      "source": [
        "from google.colab import drive\n",
        "drive.mount('/content/drive')"
      ]
    },
    {
      "cell_type": "code",
      "execution_count": 3,
      "metadata": {
        "colab": {
          "base_uri": "https://localhost:8080/"
        },
        "id": "36DfEjp6GyJi",
        "outputId": "a9b3dc8e-df8e-47a6-cad8-8a25ca824407"
      },
      "outputs": [
        {
          "output_type": "stream",
          "name": "stdout",
          "text": [
            "\u001b[31mERROR: Invalid requirement: '==0.5.4'\u001b[0m\u001b[31m\n",
            "\u001b[0m"
          ]
        }
      ],
      "source": [
        "!pip install shap==0.43.0 umap-learn ==0.5.4"
      ]
    },
    {
      "cell_type": "markdown",
      "metadata": {
        "id": "vm7UrGfgHO-B"
      },
      "source": [
        "#Only tumor wo normal(healthy) preprocessing"
      ]
    },
    {
      "cell_type": "code",
      "execution_count": 4,
      "metadata": {
        "colab": {
          "base_uri": "https://localhost:8080/",
          "height": 397
        },
        "id": "imrWjVbIHMtg",
        "outputId": "ab3f2d48-b477-4340-c92f-5ccd1c7768f4"
      },
      "outputs": [
        {
          "output_type": "error",
          "ename": "ModuleNotFoundError",
          "evalue": "ignored",
          "traceback": [
            "\u001b[0;31m---------------------------------------------------------------------------\u001b[0m",
            "\u001b[0;31mModuleNotFoundError\u001b[0m                       Traceback (most recent call last)",
            "\u001b[0;32m<ipython-input-4-7b914b33dffa>\u001b[0m in \u001b[0;36m<cell line: 1>\u001b[0;34m()\u001b[0m\n\u001b[0;32m----> 1\u001b[0;31m \u001b[0;32mimport\u001b[0m \u001b[0mshap\u001b[0m\u001b[0;34m\u001b[0m\u001b[0;34m\u001b[0m\u001b[0m\n\u001b[0m\u001b[1;32m      2\u001b[0m \u001b[0;32mimport\u001b[0m \u001b[0mpandas\u001b[0m \u001b[0;32mas\u001b[0m \u001b[0mpd\u001b[0m\u001b[0;34m\u001b[0m\u001b[0;34m\u001b[0m\u001b[0m\n\u001b[1;32m      3\u001b[0m \u001b[0;32mimport\u001b[0m \u001b[0mnumpy\u001b[0m \u001b[0;32mas\u001b[0m \u001b[0mnp\u001b[0m\u001b[0;34m\u001b[0m\u001b[0;34m\u001b[0m\u001b[0m\n\u001b[1;32m      4\u001b[0m \u001b[0mdf\u001b[0m \u001b[0;34m=\u001b[0m  \u001b[0mpd\u001b[0m\u001b[0;34m.\u001b[0m\u001b[0mread_pickle\u001b[0m\u001b[0;34m(\u001b[0m\u001b[0;34m'/content/drive/MyDrive/pan_cancer_diner/Gene parsing  code /11093rx39979c.pkl'\u001b[0m\u001b[0;34m)\u001b[0m\u001b[0;34m\u001b[0m\u001b[0;34m\u001b[0m\u001b[0m\n\u001b[1;32m      5\u001b[0m \u001b[0mmeta\u001b[0m\u001b[0;34m=\u001b[0m \u001b[0mpd\u001b[0m\u001b[0;34m.\u001b[0m\u001b[0mread_pickle\u001b[0m\u001b[0;34m(\u001b[0m\u001b[0;34m'/content/drive/MyDrive/pan_cancer_diner/Clinical data from  tcga.R/metadata.pkl'\u001b[0m\u001b[0;34m)\u001b[0m\u001b[0;34m\u001b[0m\u001b[0;34m\u001b[0m\u001b[0m\n",
            "\u001b[0;31mModuleNotFoundError\u001b[0m: No module named 'shap'",
            "",
            "\u001b[0;31m---------------------------------------------------------------------------\u001b[0;32m\nNOTE: If your import is failing due to a missing package, you can\nmanually install dependencies using either !pip or !apt.\n\nTo view examples of installing some common dependencies, click the\n\"Open Examples\" button below.\n\u001b[0;31m---------------------------------------------------------------------------\u001b[0m\n"
          ],
          "errorDetails": {
            "actions": [
              {
                "action": "open_url",
                "actionText": "Open Examples",
                "url": "/notebooks/snippets/importing_libraries.ipynb"
              }
            ]
          }
        }
      ],
      "source": [
        "import shap\n",
        "import pandas as pd\n",
        "import numpy as np\n",
        "df =  pd.read_pickle('/content/drive/MyDrive/pan_cancer_diner/Gene parsing  code /11093rx39979c.pkl')\n",
        "meta= pd.read_pickle('/content/drive/MyDrive/pan_cancer_diner/Clinical data from  tcga.R/metadata.pkl')"
      ]
    },
    {
      "cell_type": "code",
      "execution_count": null,
      "metadata": {
        "id": "QpW3MqzgHWN1"
      },
      "outputs": [],
      "source": [
        "meta.columns"
      ]
    },
    {
      "cell_type": "code",
      "execution_count": null,
      "metadata": {
        "id": "JWdpkIePHyc6"
      },
      "outputs": [],
      "source": [
        "df"
      ]
    },
    {
      "cell_type": "markdown",
      "metadata": {
        "id": "rb2MKxezHecK"
      },
      "source": [
        "#Live is 0 Death is 1"
      ]
    },
    {
      "cell_type": "code",
      "execution_count": null,
      "metadata": {
        "id": "dbqBWTIDH55N"
      },
      "outputs": [],
      "source": [
        "df = df[meta['tumor'] == True]\n",
        "df['vital']= meta['vital']\n",
        "df =df.dropna()"
      ]
    },
    {
      "cell_type": "code",
      "execution_count": null,
      "metadata": {
        "id": "dUmgvzRdH625"
      },
      "outputs": [],
      "source": [
        "df['vital'].unique()"
      ]
    },
    {
      "cell_type": "code",
      "execution_count": null,
      "metadata": {
        "id": "sQ262XfRHfP9"
      },
      "outputs": [],
      "source": [
        "y = df['vital'].replace({'Alive': 1, 'Dead': 0})\n",
        "y"
      ]
    },
    {
      "cell_type": "code",
      "execution_count": null,
      "metadata": {
        "id": "20_A0VRbIGdj"
      },
      "outputs": [],
      "source": [
        "y.value_counts()\n"
      ]
    },
    {
      "cell_type": "code",
      "execution_count": null,
      "metadata": {
        "id": "54l6yBqeJBl6"
      },
      "outputs": [],
      "source": []
    },
    {
      "cell_type": "code",
      "execution_count": null,
      "metadata": {
        "id": "q5EnYsKzI2DH"
      },
      "outputs": [],
      "source": [
        "import numpy as np\n",
        "import pandas as pd\n",
        "from xgboost import XGBClassifier\n",
        "from sklearn.datasets import load_breast_cancer\n",
        "from sklearn.model_selection import StratifiedKFold\n",
        "from sklearn.metrics import roc_auc_score, roc_curve\n",
        "import matplotlib.pyplot as plt\n",
        "\n",
        "# Load sample data\n",
        "#Without the columun named \"vital\"\n",
        "X = np.log(df.iloc[:,:-1].values +1)\n",
        "y = df['vital'].replace({'Alive': 1, 'Dead': 0})\n",
        "y = y.values\n",
        "\n",
        "# Cross-validation setup\n",
        "n_folds = 5\n",
        "skf = StratifiedKFold(n_splits=n_folds, shuffle=True, random_state=42)\n",
        "aucs = []\n",
        "\"\"\"\n",
        "clf = XGBClassifier(\n",
        "    n_estimators= 1000,\n",
        "    learning_rate=0.01,\n",
        "    max_depth=20,\n",
        "    subsample=0.5,\n",
        "    colsample_bytree=0.2,\n",
        "    colsample_bylevel=0.2,\n",
        "    gamma=2,\n",
        "    reg_alpha=0.5,\n",
        "    reg_lambda=2,\n",
        "    eval_metric='auc',\n",
        "    use_label_encoder=False,\n",
        "    grow_policy='lossguide',\n",
        "    verbosity=3,\n",
        "    tree_method='gpu_hist',\n",
        "    n_jobs=-1\n",
        ")\n",
        "\n",
        "\n",
        "\"\"\"\n",
        "clf = XGBClassifier(\n",
        "    n_estimators= 200,\n",
        "    eval_metric='auc',\n",
        "    verbosity=3,\n",
        "    #tree_method='gpu_hist',\n",
        "    random_state=50,\n",
        "    grow_policy='lossguide',\n",
        "    tree_method='gpu_hist',\n",
        "\n",
        ")"
      ]
    },
    {
      "cell_type": "markdown",
      "metadata": {
        "id": "nVg-oMQw0yCN"
      },
      "source": [
        "StratifiedKFold is a variation of k-fold cross-validation that returns stratified folds. \"Stratified\" means that each fold is made by preserving the percentage of samples for each class. This is especially useful when you have an imbalanced dataset where one class significantly outnumbers the other(s)."
      ]
    },
    {
      "cell_type": "code",
      "execution_count": null,
      "metadata": {
        "id": "f38K-GmlJ6AO"
      },
      "outputs": [],
      "source": [
        "# Create a figure for the ROC curves\n",
        "plt.figure(figsize=(10, 8))\n",
        "from sklearn.metrics import roc_curve, roc_auc_score, classification_report\n",
        "for train_index, test_index in skf.split(X, y):\n",
        "    X_train, X_test = X[train_index], X[test_index]\n",
        "    y_train, y_test = y[train_index], y[test_index]\n",
        "\n",
        "    clf.fit(X_train, y_train)\n",
        "\n",
        "    # Predict the class labels\n",
        "    y_pred_class = clf.predict(X_test)\n",
        "\n",
        "    # Print the classification report for this fold\n",
        "    print(f\"Classification Report for Fold {len(aucs) + 1}:\")\n",
        "    print(classification_report(y_test, y_pred_class))\n",
        "    print(\"-\" * 50)  # For visual separation between reports\n",
        "\n",
        "    # Predict the probability of positive class\n",
        "    y_pred = clf.predict_proba(X_test)[:, 1]\n",
        "\n",
        "    # Compute and store AUC for the fold\n",
        "    auc = roc_auc_score(y_test, y_pred)\n",
        "    aucs.append(auc)\n",
        "\n",
        "    # Compute ROC curve and plot\n",
        "    fpr, tpr, _ = roc_curve(y_test, y_pred)\n",
        "    plt.plot(fpr, tpr, label=f'AUC (Fold {len(aucs)}): {auc:.2f}')\n",
        "\n",
        "# Plotting the ROC curves\n",
        "plt.plot([0, 1], [0, 1], 'k--')\n",
        "plt.xlim([0.0, 1.0])\n",
        "plt.ylim([0.0, 1.05])\n",
        "plt.xlabel('False Positive Rate')\n",
        "plt.ylabel('True Positive Rate')\n",
        "plt.title('ROC Curve for each fold')\n",
        "plt.legend(loc=\"lower right\")\n",
        "plt.show()\n",
        "plt.savefig(\"ROC.png\", dpi=600)  # dpi can be adjusted based on desired resolution\n",
        "\n",
        "# Reporting average and standard deviation of AUC\n",
        "print(f\"Mean AUC: {np.mean(aucs):.2f}\")\n",
        "print(f\"Std AUC: {np.std(aucs):.2f}\")"
      ]
    },
    {
      "cell_type": "code",
      "execution_count": null,
      "metadata": {
        "id": "El0p5BHcZEdZ"
      },
      "outputs": [],
      "source": [
        "clf"
      ]
    },
    {
      "cell_type": "markdown",
      "metadata": {
        "id": "8bPUt0XqKxLx"
      },
      "source": [
        "**WITH ALL DATA** SHAPS"
      ]
    },
    {
      "cell_type": "code",
      "execution_count": null,
      "metadata": {
        "id": "o2t88Si8ydHF"
      },
      "outputs": [],
      "source": [
        "import numpy as np\n",
        "import pandas as pd\n",
        "from xgboost import XGBClassifier\n",
        "from sklearn.datasets import load_breast_cancer\n",
        "from sklearn.model_selection import StratifiedKFold\n",
        "from sklearn.metrics import roc_auc_score, roc_curve\n",
        "import matplotlib.pyplot as plt\n",
        "\n",
        "# Load sample data\n",
        "#Without the columun named \"vital\"\n",
        "X = np.log(df.iloc[:,:-1].values +1)\n",
        "y = df['vital'].replace({'Alive': 1, 'Dead': 0})\n",
        "y = y.values\n"
      ]
    },
    {
      "cell_type": "code",
      "execution_count": null,
      "metadata": {
        "id": "73rrnk-Vv50-"
      },
      "outputs": [],
      "source": [
        "clf = XGBClassifier(\n",
        "    n_estimators= 200,\n",
        "    eval_metric='auc',\n",
        "    verbosity=3,\n",
        "    #tree_method='gpu_hist',\n",
        "    random_state=50,\n",
        "    grow_policy='lossguide',\n",
        "    tree_method='gpu_hist',\n",
        "\n",
        ")"
      ]
    },
    {
      "cell_type": "code",
      "execution_count": null,
      "metadata": {
        "id": "_qWtuBm0pC_h"
      },
      "outputs": [],
      "source": [
        "# Let's compute SHAP values for the last test set after the final cross-validation loop\n",
        "explainer = shap.TreeExplainer(clf.fit(X,y))"
      ]
    },
    {
      "cell_type": "code",
      "source": [
        "X"
      ],
      "metadata": {
        "id": "hg2UI2wtSmCe"
      },
      "execution_count": null,
      "outputs": []
    },
    {
      "cell_type": "code",
      "execution_count": null,
      "metadata": {
        "id": "-qpGKmdGHYcB"
      },
      "outputs": [],
      "source": [
        "shap_values = explainer.shap_values(X)"
      ]
    },
    {
      "cell_type": "code",
      "execution_count": null,
      "metadata": {
        "id": "73kCrUICVAHC"
      },
      "outputs": [],
      "source": [
        "import matplotlib\n",
        "#matplotlib.use('Agg')\n",
        "\n",
        "import shap\n",
        "import matplotlib.pyplot as plt\n",
        "import shap\n",
        "import matplotlib.pyplot as plt\n",
        "\n",
        "# Set up a figure\n",
        "fig, ax = plt.subplots(figsize=(10, 6))\n",
        "\n",
        "# Generate the SHAP plot\n",
        "shap.summary_plot(shap_values, df.iloc[:,:-1], plot_type=\"bar\", max_display=30)\n",
        "\n",
        "# Save and display\n",
        "plt.tight_layout()\n",
        "plt.show()\n",
        "\n"
      ]
    },
    {
      "cell_type": "markdown",
      "source": [],
      "metadata": {
        "id": "Al2bt-LYXlJ4"
      }
    },
    {
      "cell_type": "code",
      "execution_count": null,
      "metadata": {
        "id": "2fmdAoO3eeVd"
      },
      "outputs": [],
      "source": [
        "#First this\n",
        "shap.summary_plot(shap_values, df.iloc[:, :-1], plot_type=\"layered_violin\", max_display=30, color='coolwarm', show=False)\n"
      ]
    },
    {
      "cell_type": "code",
      "source": [
        "import matplotlib.pyplot as plt\n",
        "import seaborn as sns\n",
        "\n",
        "# Add the \"panel\" variable from the \"meta\" DataFrame to the SHAP DataFrame\n",
        "shap_df[\"panel\"] = meta['vital']\n",
        "\n",
        "# Calculate absolute SHAP values to get feature importances\n",
        "shap_importances = np.abs(shap_df.iloc[:, :-1]).mean(axis=0)\n",
        "top = 15\n",
        "\n",
        "# Get the indices of the top features based on their importances\n",
        "top_feature_indices = np.argsort(shap_importances)[-top:]\n",
        "\n",
        "# Select the top features based on their indices\n",
        "top_features = shap_df.columns[top_feature_indices]\n",
        "\n",
        "# Melt the DataFrame for hue-based plotting\n",
        "melted_shap_df = pd.melt(shap_df, id_vars=[\"panel\"], value_vars=top_features, var_name=\"variable\")\n",
        "\n",
        "plt.figure(figsize=(4, 12))\n",
        "ax = sns.boxplot(y='variable', x='value', hue='panel', data=melted_shap_df, orient='h', showfliers=False)\n",
        "plt.axvline(0, color='red', linestyle='--')\n",
        "ax.legend(loc='best', fontsize='small')  # Adjust the size of the legend\n",
        "\n",
        "# Save the figure before showing it\n",
        "plt.savefig(\"shap_summary_plot_boxplot.png\", dpi=600)\n",
        "\n",
        "# Now, show the figure\n",
        "plt.show()\n"
      ],
      "metadata": {
        "id": "Q8qhXzCsZYrQ"
      },
      "execution_count": null,
      "outputs": []
    },
    {
      "cell_type": "code",
      "source": [
        "import numpy as np\n",
        "import pandas as pd\n",
        "import plotly.express as px\n",
        "\n",
        "# Asumiendo que shap_values es tu matriz de valores SHAP y ya tienes un DataFrame de pandas df y meta definidos.\n",
        "shap_df = pd.DataFrame(shap_values, columns=df.columns[:-1], index=df.index)\n",
        "\n",
        "# Agregar la variable \"panel\" del DataFrame \"meta\" al DataFrame SHAP\n",
        "shap_df[\"panel\"] = meta['panel']\n",
        "\n",
        "# Calcular valores SHAP absolutos para obtener importancias de características\n",
        "shap_importances = np.abs(shap_df.iloc[:, :-1]).mean(axis=0)\n",
        "top = 30\n",
        "\n",
        "# Obtener los índices de las características principales basadas en sus importancias\n",
        "top_feature_indices = np.argsort(shap_importances)[-top:]\n",
        "\n",
        "# Seleccionar las características principales según sus índices\n",
        "top_features = shap_df.columns[top_feature_indices]\n",
        "\n",
        "# Derretir el DataFrame para la representación basada en tonos\n",
        "melted_shap_df = pd.melt(shap_df, id_vars=[\"panel\"], value_vars=top_features, var_name=\"variable\")\n",
        "\n",
        "# Ordena melted_shap_df por 'variable' y luego por 'panel' para que el orden de los plots coincida con el orden alfabético de las etiquetas\n",
        "sorted_panels = sorted(melted_shap_df['panel'].unique())\n",
        "melted_shap_df['panel'] = pd.Categorical(melted_shap_df['panel'], categories=sorted_panels, ordered=True)\n",
        "\n",
        "# Ahora, ordena por variable y por el orden del panel\n",
        "melted_shap_df = melted_shap_df.sort_values(by=['variable', 'panel'])\n",
        "\n",
        "# Crear un diagrama de caja con Plotly\n",
        "fig = px.box(\n",
        "    melted_shap_df,\n",
        "    x=\"value\",\n",
        "    y=\"variable\",\n",
        "    color=\"panel\",\n",
        "    title=\"Top 5 SHAP Values by Panel\",\n",
        "    labels={\"value\": \"SHAP Value\", \"variable\": \"Feature\", \"panel\": \"Panel\"},\n",
        "    orientation=\"h\",\n",
        "    category_orders={\"variable\": top_features.tolist()}\n",
        ")\n",
        "\n",
        "# Agregar línea vertical en x=0\n",
        "fig.add_shape(\n",
        "    type='line',\n",
        "    line=dict(\n",
        "        dash='dash',\n",
        "    ),\n",
        "    x0=0,\n",
        "    x1=0,\n",
        "    y0=-0.5,\n",
        "    y1=top - 0.5\n",
        ")\n",
        "\n",
        "fig.update_layout(\n",
        "    xaxis_title=\"SHAP Value\",\n",
        "    yaxis_title=\"Feature\",\n",
        "    boxmode='group',\n",
        "    margin=dict(l=0, r=0, t=30, b=0)\n",
        ")\n",
        "\n",
        "fig.show()\n",
        "\n",
        "# Guardar la figura en un archivo HTML\n",
        "fig.write_html(\"shap_summary_plotly.html\")\n",
        "\n"
      ],
      "metadata": {
        "id": "rhhmApjOXsFq"
      },
      "execution_count": null,
      "outputs": []
    },
    {
      "cell_type": "code",
      "execution_count": null,
      "metadata": {
        "id": "eauGuNExd3Iw"
      },
      "outputs": [],
      "source": [
        "\n",
        "import matplotlib\n",
        "\n",
        "import shap\n",
        "import matplotlib.pyplot as plt\n",
        "import shap\n",
        "import matplotlib.pyplot as plt\n",
        "\n",
        "# Set up a figure\n",
        "fig, ax = plt.subplots(figsize=(10, 6))\n",
        "\n",
        "# Generate the SHAP plot\n",
        "shap.summary_plot(shap_values, df.iloc[:, :-1], plot_type=\"layered_violin\", max_display=30, color='coolwarm', show=False)\n",
        "\n",
        "# Save and display\n",
        "plt.tight_layout()\n",
        "plt.show()\n",
        "plt.savefig(\"shap_summary_plot_layered.png\", dpi=600)  # dpi can be adjusted based on desired resolution\n"
      ]
    },
    {
      "cell_type": "code",
      "execution_count": null,
      "metadata": {
        "id": "nQnB8WGSp9Dq"
      },
      "outputs": [],
      "source": [
        "\n",
        "import matplotlib\n",
        "\n",
        "\n",
        "import shap\n",
        "import matplotlib.pyplot as plt\n",
        "import shap\n",
        "import matplotlib.pyplot as plt\n",
        "\n",
        "# Set up a figure\n",
        "fig, ax = plt.subplots(figsize=(10, 6))\n",
        "\n",
        "# Generate the SHAP plot\n",
        "shap.summary_plot(shap_values, df.iloc[:,:-1], plot_type=\"bar\", max_display=30)\n",
        "\n",
        "# Save and display\n",
        "plt.tight_layout()\n",
        "plt.show()\n",
        "plt.savefig(\"shap_summary_plot_bar.png\", dpi=600)  # dpi can be adjusted based on desired resolution"
      ]
    },
    {
      "cell_type": "code",
      "source": [
        "import pandas as pd\n",
        "import seaborn as sns\n",
        "import matplotlib.pyplot as plt\n",
        "import numpy as np\n",
        "\n",
        "# Set the style and context for the plot\n",
        "sns.set_style(\"whitegrid\")\n",
        "sns.set_context(\"talk\")\n",
        "\n",
        "# Assuming shap_values_1 is your SHAP values matrix\n",
        "# You can create a DataFrame to make it easier to work with\n",
        "shap_df = pd.DataFrame(shap_values, columns=df.columns[:-1], index=df.index)\n",
        "\n",
        "# Add the \"panel\" variable from the \"meta\" DataFrame to the SHAP DataFrame\n",
        "shap_df[\"panel\"] = meta['vital']\n",
        "\n",
        "# Calculate absolute SHAP values to get feature importances\n",
        "shap_importances = np.abs(shap_df.iloc[:, :-1]).mean(axis=0)\n",
        "top = 30\n",
        "\n",
        "# Get the indices of the top features based on their importances\n",
        "top_feature_indices = np.argsort(shap_importances)[-top:]\n",
        "\n",
        "# Select the top features based on their indices\n",
        "top_features = shap_df.columns[top_feature_indices]\n",
        "\n",
        "# Melt the DataFrame for hue-based plotting\n",
        "melted_shap_df = pd.melt(shap_df, id_vars=[\"panel\"], value_vars=top_features, var_name=\"variable\")\n",
        "\n",
        "# Set up the figure and axes\n",
        "fig, ax = plt.subplots(figsize=(13, 17))\n",
        "\n",
        "# Use sns.boxplot directly on the ax object with color referenced from your provided code\n",
        "sns.boxplot(\n",
        "    data=melted_shap_df, x=\"value\", y=\"variable\", hue=\"panel\", ax=ax\n",
        ")\n",
        "\n",
        "# Add the red dotted line at x=0\n",
        "ax.axvline(0, color='red', linestyle='--', linewidth=1.5)\n",
        "\n",
        "# Invert the Y axis so the most important features are at the top\n",
        "ax.invert_yaxis()\n",
        "\n",
        "# Customize title and labels for better aesthetics\n",
        "ax.set_xlabel(\"SHAP Value\")\n",
        "ax.set_ylabel(\"Feature\")\n",
        "\n",
        "# Add a legend and adjust its appearance\n",
        "ax.legend(title=\"Panel\", title_fontsize='16', loc=\"upper right\", fontsize='14')\n",
        "\n",
        "plt.tight_layout()\n",
        "\n",
        "# Save and display the figure\n",
        "plt.savefig(\"shap_vital_box.png\", dpi=600, bbox_inches='tight')\n",
        "plt.show()\n"
      ],
      "metadata": {
        "id": "fbRg60S1b5Zz"
      },
      "execution_count": null,
      "outputs": []
    },
    {
      "cell_type": "code",
      "source": [
        "top_features"
      ],
      "metadata": {
        "id": "mCZd9-JNoxwp"
      },
      "execution_count": null,
      "outputs": []
    },
    {
      "cell_type": "code",
      "source": [
        "import pandas as pd\n",
        "import seaborn as sns\n",
        "import matplotlib.pyplot as plt\n",
        "\n",
        "# Set the style and context for the plot\n",
        "sns.set_style(\"whitegrid\")\n",
        "sns.set_context(\"talk\")\n",
        "\n",
        "# Suponiendo que shap_values_1 es tu matriz de valores SHAP\n",
        "# Puedes crear un DataFrame para facilitar su manipulación\n",
        "shap_df = pd.DataFrame(shap_values, columns=df.columns[:-1], index=df.index)\n",
        "\n",
        "# Añadir la variable \"panel\" del DataFrame \"meta\" al DataFrame SHAP\n",
        "shap_df[\"panel\"] = meta['panel']\n",
        "\n",
        "# Calcular valores SHAP absolutos para obtener importancias de características\n",
        "shap_importances = np.abs(shap_df.iloc[:, :-1]).mean(axis=0)\n",
        "top = 3\n",
        "# Obtener los índices de las características principales según su importancia\n",
        "top_feature_indices = np.argsort(shap_importances)[-top:]\n",
        "\n",
        "# Seleccionar las características principales según sus índices\n",
        "top_features = shap_df.columns[top_feature_indices]\n",
        "\n",
        "# Crear un gráfico boxen más grande con colores consistentes identificando el panel\n",
        "# Cambiamos el tamaño de la figura para que se visualice mejor\n",
        "plt.figure(figsize=(10, 20))\n",
        "# Deshacer el DataFrame para la trama basada en tonos\n",
        "melted_shap_df = pd.melt(shap_df, id_vars=[\"panel\"], value_vars=top_features[::-1], var_name=\"variable\")\n",
        "\n",
        "# Crear un gráfico boxen más grande\n",
        "sns.boxplot(\n",
        "    data=melted_shap_df, x=\"value\", y=\"variable\", hue=\"panel\",\n",
        "    hue_order=sorted(melted_shap_df['panel'].unique()),  # Ordenar paneles alfabéticamente en la leyenda\n",
        "    orient=\"h\", dodge=True, fliersize=1\n",
        ")\n",
        "\n",
        "# Añadir la línea roja punteada en x=0\n",
        "plt.axvline(0, color='red', linestyle='--')\n",
        "\n",
        "# Establecer las etiquetas y el título con tamaños ajustados\n",
        "plt.xlabel(\"SHAP Value\", fontsize=12)\n",
        "plt.legend(title=\"Panel\", bbox_to_anchor=(1.05, 1), loc='upper left', fontsize=10)\n",
        "plt.title(\"SHAP Value Distribution across Panels\", fontsize=14)\n",
        "\n",
        "# Ajuste apretado para garantizar una visualización adecuada del gráfico\n",
        "plt.tight_layout()\n",
        "plt.savefig(\"shap_panel_box.png\", dpi=600, bbox_inches='tight')\n",
        "\n",
        "# Mostrar el gráfico\n",
        "plt.show()\n"
      ],
      "metadata": {
        "id": "QkVDNEVInmtr"
      },
      "execution_count": null,
      "outputs": []
    },
    {
      "cell_type": "code",
      "source": [
        "top_features"
      ],
      "metadata": {
        "id": "sumGFLQcohut"
      },
      "execution_count": null,
      "outputs": []
    },
    {
      "cell_type": "code",
      "execution_count": null,
      "metadata": {
        "id": "6GAsHE6XvREV"
      },
      "outputs": [],
      "source": [
        "save = pd.DataFrame(shap_values, columns= df.iloc[:,:-1].columns, index= df.iloc[:,:-1].index)"
      ]
    },
    {
      "cell_type": "code",
      "execution_count": null,
      "metadata": {
        "id": "Hqqc3knewVp1"
      },
      "outputs": [],
      "source": [
        "save"
      ]
    },
    {
      "cell_type": "code",
      "execution_count": null,
      "metadata": {
        "id": "i0hfHniOvejG"
      },
      "outputs": [],
      "source": [
        "save.to_pickle(\"/content/drive/MyDrive/pan_cancer_diner/XGBOOST all shap files/shap.pkl\")"
      ]
    }
  ],
  "metadata": {
    "accelerator": "GPU",
    "colab": {
      "machine_shape": "hm",
      "provenance": [],
      "include_colab_link": true
    },
    "kernelspec": {
      "display_name": "Python 3",
      "name": "python3"
    },
    "language_info": {
      "name": "python"
    }
  },
  "nbformat": 4,
  "nbformat_minor": 0
}